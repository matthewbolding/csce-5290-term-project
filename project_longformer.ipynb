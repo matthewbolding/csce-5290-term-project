{
 "cells": [
  {
   "cell_type": "code",
   "execution_count": null,
   "id": "2ebf24d6",
   "metadata": {},
   "outputs": [],
   "source": [
    "# Cell 1: Download data if not already present\n",
    "import os\n",
    "import requests\n",
    "\n",
    "file_urls = {\n",
    "    \"data/Gungor_2018_VictorianAuthorAttribution_data-train.csv\":\n",
    "        \"https://dataworks.indianapolis.iu.edu/bitstream/handle/11243/23/Gungor_2018_VictorianAuthorAttribution_data-train.csv?sequence=2&isAllowed=y\",\n",
    "    \"data/Gungor_2018_VictorianAuthorAttribution_data.csv\":\n",
    "        \"https://dataworks.indianapolis.iu.edu/bitstream/handle/11243/23/Gungor_2018_VictorianAuthorAttribution_data.csv?sequence=3&isAllowed=y\"\n",
    "}\n",
    "\n",
    "os.makedirs(\"data\", exist_ok=True)\n",
    "\n",
    "for filename, url in file_urls.items():\n",
    "    if not os.path.exists(filename):\n",
    "        print(f\"Downloading {filename}...\", flush=True)\n",
    "        response = requests.get(url)\n",
    "        response.raise_for_status()\n",
    "        with open(filename, \"wb\") as f:\n",
    "            f.write(response.content)\n",
    "        print(f\"Saved to {filename}\", flush=True)\n",
    "    else:\n",
    "        print(f\"File already exists: {filename}\", flush=True)\n",
    "\n",
    "print(\"Hello world.\")"
   ]
  },
  {
   "cell_type": "code",
   "execution_count": null,
   "id": "d0c5a3a8",
   "metadata": {},
   "outputs": [],
   "source": [
    "# Cell 2: Load datasets\n",
    "import pandas as pd\n",
    "\n",
    "train_df = pd.read_csv(\"data/Gungor_2018_VictorianAuthorAttribution_data-train.csv\", encoding=\"ISO-8859-1\")\n",
    "full_df = pd.read_csv(\"data/Gungor_2018_VictorianAuthorAttribution_data.csv\", encoding=\"ISO-8859-1\")\n"
   ]
  },
  {
   "cell_type": "code",
   "execution_count": null,
   "id": "573dbb47",
   "metadata": {},
   "outputs": [],
   "source": [
    "# Cell 3: Prepare labels and split dataset\n",
    "from sklearn.model_selection import train_test_split\n",
    "import json\n",
    "\n",
    "train_df['author_label'] = train_df['author'].astype('category').cat.codes\n",
    "label_map = dict(enumerate(train_df['author'].astype('category').cat.categories))\n",
    "\n",
    "with open(\"data/label_map.json\", \"w\") as f:\n",
    "    json.dump(label_map, f)\n",
    "\n",
    "train_texts, val_texts, train_labels, val_labels = train_test_split(\n",
    "    train_df['text'].tolist(),\n",
    "    train_df['author_label'].tolist(),\n",
    "    test_size=0.1,\n",
    "    stratify=train_df['author_label'],\n",
    "    random_state=42\n",
    ")\n"
   ]
  },
  {
   "cell_type": "code",
   "execution_count": null,
   "id": "bf795c72",
   "metadata": {},
   "outputs": [],
   "source": [
    "# Cell 4: Tokenization with Longformer\n",
    "from transformers import AutoTokenizer\n",
    "\n",
    "model_name = \"allenai/longformer-base-4096\"\n",
    "tokenizer = AutoTokenizer.from_pretrained(model_name)\n",
    "\n",
    "train_encodings = tokenizer(train_texts, truncation=True, padding=\"max_length\", max_length=2048)\n",
    "val_encodings = tokenizer(val_texts, truncation=True, padding=\"max_length\", max_length=2048)\n",
    "\n",
    "# Add global attention mask (CLS token = global)\n",
    "import torch\n",
    "train_encodings[\"global_attention_mask\"] = [\n",
    "    [1] + [0] * (len(input_ids) - 1) for input_ids in train_encodings[\"input_ids\"]\n",
    "]\n",
    "val_encodings[\"global_attention_mask\"] = [\n",
    "    [1] + [0] * (len(input_ids) - 1) for input_ids in val_encodings[\"input_ids\"]\n",
    "]\n"
   ]
  },
  {
   "cell_type": "code",
   "execution_count": null,
   "id": "6a62963f",
   "metadata": {},
   "outputs": [],
   "source": [
    "# Cell 5: Dataset wrapper class with global attention mask\n",
    "import torch\n",
    "\n",
    "class AuthorDataset(torch.utils.data.Dataset):\n",
    "    def __init__(self, encodings, labels):\n",
    "        self.encodings = encodings\n",
    "        self.labels = labels\n",
    "\n",
    "    def __getitem__(self, idx):\n",
    "        return {\n",
    "            'input_ids': torch.tensor(self.encodings['input_ids'][idx]),\n",
    "            'attention_mask': torch.tensor(self.encodings['attention_mask'][idx]),\n",
    "            'global_attention_mask': torch.tensor(self.encodings['global_attention_mask'][idx]),\n",
    "            'labels': torch.tensor(self.labels[idx])\n",
    "        }\n",
    "\n",
    "    def __len__(self):\n",
    "        return len(self.labels)\n",
    "\n",
    "train_dataset = AuthorDataset(train_encodings, train_labels)\n",
    "val_dataset = AuthorDataset(val_encodings, val_labels)\n"
   ]
  },
  {
   "cell_type": "code",
   "execution_count": null,
   "id": "ba1364cd",
   "metadata": {},
   "outputs": [],
   "source": [
    "# Cell 6: Load Longformer model for classification\n",
    "from transformers import AutoModelForSequenceClassification\n",
    "\n",
    "model = AutoModelForSequenceClassification.from_pretrained(\n",
    "    model_name,\n",
    "    num_labels=len(label_map)\n",
    ")\n"
   ]
  },
  {
   "cell_type": "code",
   "execution_count": null,
   "id": "5f6ca2bf",
   "metadata": {},
   "outputs": [],
   "source": [
    "# Cell 7: Training configuration\n",
    "from transformers import TrainingArguments, Trainer\n",
    "import numpy as np\n",
    "from sklearn.metrics import accuracy_score\n",
    "\n",
    "import os\n",
    "os.environ[\"TOKENIZERS_PARALLELISM\"] = \"false\"\n",
    "os.environ[\"PYTORCH_CUDA_ALLOC_CONF\"] = \"expandable_segments:True\"\n",
    "\n",
    "training_args = TrainingArguments(\n",
    "    output_dir=\"./results\",\n",
    "    num_train_epochs=3,\n",
    "    learning_rate=2e-5,\n",
    "    per_device_train_batch_size=1,\n",
    "    per_device_eval_batch_size=1,\n",
    "    warmup_steps=500,\n",
    "    weight_decay=0.01,\n",
    "    logging_dir=\"./logs\",\n",
    "    lr_scheduler_type=\"linear\",\n",
    "    logging_steps=500,\n",
    "    logging_strategy=\"steps\",\n",
    "    logging_first_step=True,\n",
    ")\n",
    "\n",
    "\n",
    "def compute_metrics(pred):\n",
    "    labels = pred.label_ids\n",
    "    preds = np.argmax(pred.predictions, axis=1)\n",
    "    acc = accuracy_score(labels, preds)\n",
    "    return {\"accuracy\": acc}\n"
   ]
  },
  {
   "cell_type": "code",
   "execution_count": null,
   "id": "9f73b291",
   "metadata": {},
   "outputs": [],
   "source": [
    "# Cell 8: Trainer setup\n",
    "from transformers import TrainerCallback, TrainingArguments, TrainerState, TrainerControl\n",
    "\n",
    "class PrintToTerminalCallback(TrainerCallback):\n",
    "    def on_log(self, args: TrainingArguments, state: TrainerState, control: TrainerControl, logs=None, **kwargs):\n",
    "        if logs is not None:\n",
    "            step = state.global_step\n",
    "            total_steps = state.max_steps\n",
    "            epoch = state.epoch\n",
    "            log_str = f\"[Step {step}/{total_steps}] | Epoch: {epoch:.2f} | \" + \\\n",
    "                      \" | \".join(f\"{k}: {v:.4f}\" if isinstance(v, float) else f\"{k}: {v}\" for k, v in logs.items())\n",
    "            print(log_str, flush=True)  # <-- print to terminal/log file\n",
    "\n",
    "trainer = Trainer(\n",
    "    model=model,\n",
    "    args=training_args,\n",
    "    train_dataset=train_dataset,\n",
    "    eval_dataset=val_dataset,\n",
    "    compute_metrics=compute_metrics,\n",
    "    callbacks=[PrintToTerminalCallback()]\n",
    ")\n",
    "\n"
   ]
  },
  {
   "cell_type": "code",
   "execution_count": null,
   "id": "53e64a3d",
   "metadata": {},
   "outputs": [],
   "source": [
    "# Cell 9: Train the model\n",
    "trainer.train()\n"
   ]
  },
  {
   "cell_type": "code",
   "execution_count": null,
   "id": "4ccf6a27",
   "metadata": {},
   "outputs": [],
   "source": [
    "# Cell 10: Evaluate the model\n",
    "trainer.evaluate()\n"
   ]
  },
  {
   "cell_type": "code",
   "execution_count": null,
   "id": "f4e746ec",
   "metadata": {},
   "outputs": [],
   "source": [
    "# Cell 11: Save and load the Longformer model\n",
    "\n",
    "# Save model and tokenizer\n",
    "save_directory = \"longformer_model\"\n",
    "model.save_pretrained(save_directory)\n",
    "tokenizer.save_pretrained(save_directory)\n",
    "\n",
    "print(f\"Model and tokenizer saved to `{save_directory}`.\")"
   ]
  },
  {
   "cell_type": "code",
   "execution_count": null,
   "id": "2d1bd821",
   "metadata": {},
   "outputs": [],
   "source": [
    "# Example: Load model and tokenizer for future use\n",
    "save_directory = \"longformer_model\"\n",
    "\n",
    "from transformers import AutoTokenizer, AutoModelForSequenceClassification\n",
    "\n",
    "loaded_tokenizer = AutoTokenizer.from_pretrained(save_directory)\n",
    "loaded_model = AutoModelForSequenceClassification.from_pretrained(save_directory)"
   ]
  }
 ],
 "metadata": {
  "kernelspec": {
   "display_name": ".venv",
   "language": "python",
   "name": "python3"
  },
  "language_info": {
   "codemirror_mode": {
    "name": "ipython",
    "version": 3
   },
   "file_extension": ".py",
   "mimetype": "text/x-python",
   "name": "python",
   "nbconvert_exporter": "python",
   "pygments_lexer": "ipython3",
   "version": "3.9.21"
  }
 },
 "nbformat": 4,
 "nbformat_minor": 5
}
